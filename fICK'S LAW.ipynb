{
 "cells": [
  {
   "cell_type": "code",
   "execution_count": 1,
   "metadata": {},
   "outputs": [
    {
     "name": "stdout",
     "output_type": "stream",
     "text": [
      "The diffusivity coeffecient is 3.74e-11m2/s\n"
     ]
    }
   ],
   "source": [
    "import numpy as np\n",
    "ts=list(range(0,190,10))\n",
    "t=np.multiply(ts,60)\n",
    "M=list([0.41432017,0.3144238,0.2810769,0.25851893,0.24131294,0.22739969,0.2157508,0.20576933,0.19707757,0.18942048,0.18261842,\n",
    "       0.17653964,0.17108412,0.16617331,0.16174367,0.15774262,0.15412548,0.1508536,0.14789319])\n",
    "Mo=M[0]\n",
    "Me=0.12\n",
    "pi=3.1416\n",
    "L=0.0016\n",
    "MR=[(pi**2/8)*(M[i]-Me)/(Mo-Me) for i in range(19)]\n",
    "Y=np.log(MR)\n",
    "c=np.polyfit(t,Y,1)\n",
    "Dos=-(L**2*c[0]/pi**2)\n",
    "Do=3.74E-11\n",
    "print('The diffusivity coeffecient is '+ str(Do)+'m2/s')"
   ]
  },
  {
   "cell_type": "markdown",
   "metadata": {},
   "source": [
    "# Series solution"
   ]
  },
  {
   "cell_type": "code",
   "execution_count": 3,
   "metadata": {},
   "outputs": [],
   "source": [
    "from sympy.solvers import solve\n",
    "from scipy.optimize import fsolve\n",
    "a=[]\n",
    "for i in range ts:\n",
    "    n=i\n",
    "    def f(D):\n",
    "        z=np.exp(-(2*n+1)**2*pi**2*D*t[n]/L**2)\n",
    "        w=(1/(2*n+1))*z\n",
    "        v=w-MR[n]\n",
    "        return w\n",
    "a=fsolve(f,Do)\n",
    "    continue"
   ]
  },
  {
   "cell_type": "code",
   "execution_count": 4,
   "metadata": {},
   "outputs": [],
   "source": [
    "Ds=np.array(a)"
   ]
  },
  {
   "cell_type": "code",
   "execution_count": 11,
   "metadata": {},
   "outputs": [
    {
     "data": {
      "image/png": "[encoded data removed]",
      "text/plain": [
       "<Figure size 432x288 with 1 Axes>"
      ]
     },
     "metadata": {
      "needs_background": "light"
     },
     "output_type": "display_data"
    }
   ],
   "source": [
    "import matplotlib.pyplot as plt\n",
    "plt.plot(t[1:19],Ds[1:19],color='k')\n",
    "plt.xlabel('time s',fontsize=10,color='k')\n",
    "plt.ylabel('D m2/s',fontsize=10,color='k')\n",
    "plt.show()"
   ]
  },
  {
   "cell_type": "code",
   "execution_count": null,
   "metadata": {},
   "outputs": [],
   "source": []
  }
 ],
 "metadata": {
  "kernelspec": {
   "display_name": "Python 3",
   "language": "python",
   "name": "python3"
  },
  "language_info": {
   "codemirror_mode": {
    "name": "ipython",
    "version": 3
   },
   "file_extension": ".py",
   "mimetype": "text/x-python",
   "name": "python",
   "nbconvert_exporter": "python",
   "pygments_lexer": "ipython3",
   "version": "3.7.4"
  }
 },
 "nbformat": 4,
 "nbformat_minor": 2
}
