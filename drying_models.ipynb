{
 "cells": [
  {
   "cell_type": "code",
   "execution_count": 2,
   "metadata": {},
   "outputs": [],
   "source": [
    "import numpy as np\n",
    "import pandas as pd\n",
    "data=pd.read_excel('Drying Kinetics.xlsx',sheet_name='Data')\n",
    "x=data.iloc[1:,0]\n",
    "y=data.iloc[1:,1]\n",
    "import models\n",
    "from sklearn.metrics import r2_score, mean_squared_error"
   ]
  },
  {
   "cell_type": "code",
   "execution_count": 1,
   "metadata": {},
   "outputs": [],
   "source": [
    "import models"
   ]
  },
  {
   "cell_type": "code",
   "execution_count": 4,
   "metadata": {},
   "outputs": [],
   "source": [
    "models=[]\n",
    "names=[]\n",
    "models.append(('models.Page',Page))\n",
    "models.append(('models.Newton',Newton))\n",
    "models.append(('models.ModifiedPage',ModifiedPage))\n",
    "models.append(('models.HendPabis',HendPabis))\n",
    "models.append(('models.Logaritmic',Logaritmic))\n",
    "models.append(('models.Twoterm',Twoterm))\n",
    "models.append(('models.Twotermexp',Twotermexp))\n",
    "models.append(('models.WangSingh',WangSingh))\n",
    "models.append(('models.Thompson',Thompson))\n",
    "models.append(('models.Diffusion',Diffusion))\n",
    "models.append(('models.Midilli',Midilli))"
   ]
  },
  {
   "cell_type": "code",
   "execution_count": 5,
   "metadata": {},
   "outputs": [
    {
     "name": "stdout",
     "output_type": "stream",
     "text": [
      "Page:R2 0.9389287735046286 RMSE 0.07595559323067637\n",
      "Newton:R2 0.9389287735046288 RMSE 0.0759555932306762\n",
      "ModifiedPage:R2 0.997992177790044 RMSE 0.013772223627908463\n",
      "HendPabis:R2 0.9715154950565111 RMSE 0.051873526913601586\n",
      "Logaritmic:R2 -2.1316282072803006e-14 RMSE 0.307355818443935\n",
      "Twoterm:R2 -0.7826896752613761 RMSE 0.4103735050148447\n"
     ]
    },
    {
     "name": "stderr",
     "output_type": "stream",
     "text": [
      "C:\\Users\\HP\\Anaconda3\\lib\\site-packages\\scipy\\optimize\\minpack.py:795: OptimizeWarning: Covariance of the parameters could not be estimated\n",
      "  category=OptimizeWarning)\n",
      "C:\\Users\\HP\\Anaconda3\\lib\\site-packages\\scipy\\optimize\\minpack.py:795: OptimizeWarning: Covariance of the parameters could not be estimated\n",
      "  category=OptimizeWarning)\n"
     ]
    },
    {
     "name": "stdout",
     "output_type": "stream",
     "text": [
      "Twotermexp:R2 -0.7826896758149711 RMSE 0.41037350507856324\n",
      "WangSingh:R2 0.8871447019511063 RMSE 0.10325293727507555\n",
      "Thompson:R2 0.9443646285658976 RMSE 0.07249648243990835\n",
      "Diffusion:R2 0.8871447019484228 RMSE 0.10325293727630314\n",
      "Midilli:R2 -1.0436096431476471e-14 RMSE 0.30735581844393334\n"
     ]
    },
    {
     "name": "stderr",
     "output_type": "stream",
     "text": [
      "C:\\Users\\HP\\Anaconda3\\lib\\site-packages\\scipy\\optimize\\minpack.py:795: OptimizeWarning: Covariance of the parameters could not be estimated\n",
      "  category=OptimizeWarning)\n"
     ]
    },
    {
     "data": {
      "text/plain": [
       "['Page',\n",
       " 'Newton',\n",
       " 'ModifiedPage',\n",
       " 'HendPabis',\n",
       " 'Logaritmic',\n",
       " 'Twoterm',\n",
       " 'Twotermexp',\n",
       " 'WangSingh',\n",
       " 'Thompson',\n",
       " 'Diffusion',\n",
       " 'Midilli']"
      ]
     },
     "execution_count": 5,
     "metadata": {},
     "output_type": "execute_result"
    }
   ],
   "source": [
    "from scipy.optimize import curve_fit\n",
    "from sklearn.metrics import r2_score,mean_squared_error\n",
    "for name,model in models:\n",
    "    popt,pcov=curve_fit(model,x,y)\n",
    "    y_pred=model(x,*popt)\n",
    "    R2=r2_score(y,y_pred)\n",
    "    RMSE=np.sqrt(mean_squared_error(y,y_pred))\n",
    "    names.append(name)\n",
    "    print(name+':R2 '+str(R2)+' RMSE '+str(RMSE))\n",
    "    continue\n",
    "names"
   ]
  },
  {
   "cell_type": "code",
   "execution_count": null,
   "metadata": {},
   "outputs": [],
   "source": []
  }
 ],
 "metadata": {
  "kernelspec": {
   "display_name": "Python 3",
   "language": "python",
   "name": "python3"
  },
  "language_info": {
   "codemirror_mode": {
    "name": "ipython",
    "version": 3
   },
   "file_extension": ".py",
   "mimetype": "text/x-python",
   "name": "python",
   "nbconvert_exporter": "python",
   "pygments_lexer": "ipython3",
   "version": "3.7.4"
  }
 },
 "nbformat": 4,
 "nbformat_minor": 2
}
